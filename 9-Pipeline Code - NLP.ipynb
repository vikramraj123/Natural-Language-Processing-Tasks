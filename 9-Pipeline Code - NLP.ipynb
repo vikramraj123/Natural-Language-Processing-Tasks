{
 "cells": [
  {
   "cell_type": "code",
   "execution_count": 1,
   "metadata": {},
   "outputs": [
    {
     "name": "stdout",
     "output_type": "stream",
     "text": [
      "[('The', 'DT'), ('year', 'NN'), ('of', 'IN'), ('birth', 'NN'), ('of', 'IN'), ('Socrates', 'NNP'), ('stated', 'VBD'), ('is', 'VBZ'), ('an', 'DT'), ('assumed', 'JJ'), ('date', 'NN'), (',', ','), ('[', 'VBZ'), ('50', 'CD'), (']', 'NN'), ('or', 'CC'), ('estimate', 'NN'), (',', ','), ('[', '$'), ('51', 'CD'), (']', 'NNP'), ('given', 'VBN'), ('the', 'DT'), ('fact', 'NN'), ('of', 'IN'), ('the', 'DT'), ('dating', 'NN'), ('of', 'IN'), ('anything', 'NN'), ('in', 'IN'), ('ancient', 'JJ'), ('history', 'NN'), ('in', 'IN'), ('part', 'NN'), ('being', 'VBG'), ('sometimes', 'RB'), ('reliant', 'VB'), ('on', 'IN'), ('argument', 'NN'), ('stemming', 'VBG'), ('from', 'IN'), ('the', 'DT'), ('inexact', 'JJ'), ('period', 'NN'), ('floruit', 'NN'), ('of', 'IN'), ('individuals', 'NNS'), ('.', '.')]\n",
      "[('[', 'RB'), ('52', 'CD'), (']', 'JJ'), ('Diogenes', 'NNPS'), ('Laërtius', 'NNP'), ('stated', 'VBD'), ('Socrates', 'NNP'), ('birth', 'NN'), ('date', 'NN'), ('was', 'VBD'), ('``', '``'), ('the', 'DT'), ('sixth', 'JJ'), ('day', 'NN'), ('of', 'IN'), ('Thargelion', 'NNP'), (',', ','), ('the', 'DT'), ('day', 'NN'), ('when', 'WRB'), ('the', 'DT'), ('Athenians', 'NNPS'), ('purify', 'VBP'), ('the', 'DT'), ('city', 'NN'), (\"''\", \"''\"), ('.', '.')]\n",
      "[('[', 'RB'), ('53', 'CD'), (']', 'NNS'), ('Contemporaneous', 'JJ'), ('sources', 'NNS'), ('state', 'NN'), (',', ','), ('he', 'PRP'), ('was', 'VBD'), ('born', 'VBN'), ('not', 'RB'), ('very', 'RB'), ('much', 'RB'), ('later', 'RBR'), ('than', 'IN'), ('sometime', 'RB'), ('after', 'IN'), ('the', 'DT'), ('year', 'NN'), ('471', 'CD'), (',', ','), ('[', 'VBD'), ('54', 'CD'), (']', 'IN'), ('his', 'PRP$'), ('date', 'NN'), ('of', 'IN'), ('birth', 'NN'), ('is', 'VBZ'), ('within', 'IN'), ('the', 'DT'), ('period', 'NN'), ('of', 'IN'), ('years', 'NNS'), ('ranging', 'VBG'), ('470', 'CD'), ('to', 'TO'), ('469', 'CD'), ('BC', 'NNP'), (',', ','), ('[', 'VBD'), ('55', 'CD'), (']', 'NN'), ('or', 'CC'), ('within', 'IN'), ('a', 'DT'), ('range', 'NN'), ('469', 'CD'), ('to', 'TO'), ('468', 'CD'), ('BC', 'NNP'), ('(', '('), ('corresponding', 'VBG'), ('to', 'TO'), ('the', 'DT'), ('fourth', 'JJ'), ('year', 'NN'), ('of', 'IN'), ('the', 'DT'), ('77th', 'CD'), ('Olympiad', 'NNP'), (')', ')'), ('.', '.')]\n",
      "[('[', 'RB'), ('36', 'CD'), (']', 'JJ'), ('[', '$'), ('37', 'CD'), (']', 'NNP'), ('Socrates', 'NNP'), ('was', 'VBD'), ('born', 'VBN'), ('in', 'IN'), ('Alopeke', 'NNP'), (',', ','), ('and', 'CC'), ('belonged', 'VBD'), ('to', 'TO'), ('the', 'DT'), ('tribe', 'NN'), ('Antiochis', 'NNP'), ('.', '.')]\n",
      "[('His', 'PRP$'), ('father', 'NN'), ('was', 'VBD'), ('Sophroniscus', 'NNP'), (',', ','), ('a', 'DT'), ('sculptor', 'NN'), (',', ','), ('or', 'CC'), ('stonemason', 'NN'), ('.', '.')]\n",
      "[('[', 'RB'), ('56', 'CD'), (']', 'JJ'), ('[', '$'), ('57', 'CD'), (']', 'NNP'), ('[', 'VBD'), ('58', 'CD'), (']', 'IN'), ('His', 'PRP$'), ('mother', 'NN'), ('was', 'VBD'), ('a', 'DT'), ('midwife', 'NN'), ('named', 'VBN'), ('Phaenarete', 'NNP'), ('.', '.')]\n",
      "[('[', 'RB'), ('59', 'CD'), (']', 'JJ'), ('Socrates', 'NNP'), ('married', 'VBD'), ('Xanthippe', 'NNP'), (',', ','), ('who', 'WP'), ('is', 'VBZ'), ('especially', 'RB'), ('remembered', 'VBN'), ('for', 'IN'), ('having', 'VBG'), ('an', 'DT'), ('undesirable', 'JJ'), ('temperament', 'NN'), ('.', '.')]\n",
      "[('[', 'RB'), ('60', 'CD'), (']', 'JJ'), ('She', 'PRP'), ('bore', 'VBD'), ('for', 'IN'), ('him', 'PRP'), ('three', 'CD'), ('sons', 'NNS'), (',', ','), ('[', 'VBP'), ('61', 'CD'), (']', 'JJ'), ('Lamprocles', 'NNP'), (',', ','), ('Sophroniscus', 'NNP'), ('and', 'CC'), ('Menexenus', 'NNP'), ('.', '.')]\n"
     ]
    }
   ],
   "source": [
    "import nltk\n",
    "texts =  [\"\"\"The year of birth of Socrates stated is an assumed date,[50] or estimate,[51] given the fact of the dating of anything in ancient history in part being sometimes reliant on argument stemming from the inexact period floruit of individuals.\n",
    "[52] Diogenes Laërtius stated Socrates birth date was \"the sixth day of Thargelion, the day when the Athenians purify the city\".\n",
    "[53] Contemporaneous sources state, he was born not very much later than sometime after the year 471,[54] his date of birth is within the period of years ranging 470 to 469 BC,[55]\n",
    "or within a range 469 to 468 BC (corresponding to the fourth year of the 77th Olympiad).[36][37]\n",
    "Socrates was born in Alopeke, and belonged to the tribe Antiochis. His father was Sophroniscus, a sculptor, or stonemason.\n",
    "[56][57][58] His mother was a midwife named Phaenarete.[59] Socrates married Xanthippe, who is especially remembered for having an undesirable temperament.[60] She bore for him three sons,[61] Lamprocles, Sophroniscus and Menexenus.\"\"\"]\n",
    "\n",
    "for text in texts:\n",
    "    sentences = nltk.sent_tokenize(text)\n",
    "    for sentence in sentences:\n",
    "        words = nltk.word_tokenize(sentence)\n",
    "        tagged_words = nltk.pos_tag(words)\n",
    "        print(tagged_words)"
   ]
  },
  {
   "cell_type": "code",
   "execution_count": 4,
   "metadata": {},
   "outputs": [
    {
     "data": {
      "text/plain": [
       "['The', 'Party', 'was', 'so', 'much', 'fun', ':D', '#superfun', '😘', '😘', '😘']"
      ]
     },
     "execution_count": 4,
     "metadata": {},
     "output_type": "execute_result"
    }
   ],
   "source": [
    "from nltk.tokenize import TweetTokenizer\n",
    "text = 'The Party was so much fun :D #superfun 😘😘😘'\n",
    "twtkn = TweetTokenizer()\n",
    "twtkn.tokenize(text)"
   ]
  },
  {
   "cell_type": "code",
   "execution_count": null,
   "metadata": {},
   "outputs": [],
   "source": []
  }
 ],
 "metadata": {
  "kernelspec": {
   "display_name": "Python 3",
   "language": "python",
   "name": "python3"
  },
  "language_info": {
   "codemirror_mode": {
    "name": "ipython",
    "version": 3
   },
   "file_extension": ".py",
   "mimetype": "text/x-python",
   "name": "python",
   "nbconvert_exporter": "python",
   "pygments_lexer": "ipython3",
   "version": "3.6.5"
  }
 },
 "nbformat": 4,
 "nbformat_minor": 2
}
