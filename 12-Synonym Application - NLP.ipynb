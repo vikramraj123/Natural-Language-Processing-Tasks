{
 "cells": [
  {
   "cell_type": "code",
   "execution_count": 38,
   "metadata": {},
   "outputs": [
    {
     "name": "stdout",
     "output_type": "stream",
     "text": [
      "Please Enter any word:hello\n",
      "The id of the word hello is:  [Synset('hello.n.01')]\n",
      "\n",
      "The synonyms of the word hello are: \n",
      "['hello', 'hullo', 'hi', 'howdy', 'how-do-you-do']\n"
     ]
    }
   ],
   "source": [
    "import nltk\n",
    "\n",
    "word = input('Please Enter any word:')\n",
    "from nltk.corpus import wordnet as wn\n",
    "id = str(wn.synsets(word))\n",
    "\n",
    "print('The id of the word', word, 'is: ', id)\n",
    "\n",
    "wordsyn = id[9:len(id)-3]\n",
    "print('\\nThe synonyms of the word', word, 'are: ')\n",
    "print(wn.synset(wordsyn).lemma_names())"
   ]
  },
  {
   "cell_type": "code",
   "execution_count": null,
   "metadata": {},
   "outputs": [],
   "source": [
    "#For multiple IDs:"
   ]
  },
  {
   "cell_type": "code",
   "execution_count": 56,
   "metadata": {},
   "outputs": [
    {
     "name": "stdout",
     "output_type": "stream",
     "text": [
      "Please Enter any word:world\n",
      "\n",
      "The synonyms of the word world for id num 0 - Synset('universe.n.01') are:\n",
      "['universe', 'universe_of_discourse'] \n",
      "\n",
      "\n",
      "The synonyms of the word world for id num 1 - Synset('world.n.02') are:\n",
      "['world', 'human_race', 'humanity', 'humankind', 'human_beings', 'humans', 'mankind', 'man'] \n",
      "\n",
      "\n",
      "The synonyms of the word world for id num 2 - Synset('world.n.03') are:\n",
      "['world', 'human_race', 'humanity', 'humankind', 'human_beings', 'humans', 'mankind', 'man'] \n",
      "\n",
      "\n",
      "The synonyms of the word world for id num 3 - Synset('earth.n.01') are:\n",
      "['ground', 'earth'] \n",
      "\n",
      "\n",
      "The synonyms of the word world for id num 4 - Synset('populace.n.01') are:\n",
      "['populace', 'public', 'world'] \n",
      "\n",
      "\n",
      "The synonyms of the word world for id num 5 - Synset('world.n.06') are:\n",
      "['world', 'human_race', 'humanity', 'humankind', 'human_beings', 'humans', 'mankind', 'man'] \n",
      "\n",
      "\n",
      "The synonyms of the word world for id num 6 - Synset('worldly_concern.n.01') are:\n",
      "['worldly_concern', 'earthly_concern', 'world', 'earth'] \n",
      "\n",
      "\n",
      "The synonyms of the word world for id num 7 - Synset('world.n.08') are:\n",
      "['world', 'human_race', 'humanity', 'humankind', 'human_beings', 'humans', 'mankind', 'man'] \n",
      "\n"
     ]
    }
   ],
   "source": [
    "import nltk\n",
    "\n",
    "word = input('Please Enter any word:')\n",
    "from nltk.corpus import wordnet as wn\n",
    "id = wn.synsets(word)\n",
    "\n",
    "\n",
    "for i in range(0, len(id)-1):    \n",
    "    id_num = str(id[i])\n",
    "    wordsyn = id_num[8:len(id_num)-3]\n",
    "    print('\\nThe synonyms of the word', word, 'for id num', i, '-', id[i], 'are:')\n",
    "    print(wn.synset(wordsyn).lemma_names(), '\\n')"
   ]
  },
  {
   "cell_type": "code",
   "execution_count": null,
   "metadata": {},
   "outputs": [],
   "source": []
  },
  {
   "cell_type": "code",
   "execution_count": null,
   "metadata": {},
   "outputs": [],
   "source": []
  }
 ],
 "metadata": {
  "kernelspec": {
   "display_name": "Python 3",
   "language": "python",
   "name": "python3"
  },
  "language_info": {
   "codemirror_mode": {
    "name": "ipython",
    "version": 3
   },
   "file_extension": ".py",
   "mimetype": "text/x-python",
   "name": "python",
   "nbconvert_exporter": "python",
   "pygments_lexer": "ipython3",
   "version": "3.6.5"
  }
 },
 "nbformat": 4,
 "nbformat_minor": 2
}
