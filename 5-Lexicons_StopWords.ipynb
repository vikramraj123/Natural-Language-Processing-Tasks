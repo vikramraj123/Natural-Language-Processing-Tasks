{
 "cells": [
  {
   "cell_type": "code",
   "execution_count": 1,
   "metadata": {},
   "outputs": [],
   "source": [
    "from nltk.corpus import stopwords"
   ]
  },
  {
   "cell_type": "code",
   "execution_count": 2,
   "metadata": {},
   "outputs": [],
   "source": [
    "text=\"\"\"Natural language processing (NLP) is a subfield of computer science, information engineering, and artificial intelligence concerned with the interactions between computers and human (natural) languages, in particular how to program computers to process and analyze large amounts of natural language data.\n",
    "Challenges in natural language processing frequently involve speech recognition, natural language understanding, and natural language generation. The history of natural language processing generally started in the 1950s, although work can be found from earlier periods. In 1950, Alan Turing published an article titled 'Intelligence' which proposed what is now called the Turing test as a criterion of intelligence.\n",
    "Many of the notable early successes occurred in the field of machine translation, due especially to work at IBM Research, where successively more complicated statistical models were developed. These systems were able to take advantage of existing multilingual textual corpora that had been produced by the Parliament of Canada and the European Union as a result of laws calling for the translation of all governmental proceedings into all official languages of the corresponding systems of government.\"\"\""
   ]
  },
  {
   "cell_type": "code",
   "execution_count": 3,
   "metadata": {},
   "outputs": [
    {
     "name": "stdout",
     "output_type": "stream",
     "text": [
      "The tokenized words are:\n",
      "\n",
      "['Natural', 'language', 'processing', '(', 'NLP', ')', 'is', 'a', 'subfield', 'of', 'computer', 'science', ',', 'information', 'engineering', ',', 'and', 'artificial', 'intelligence', 'concerned', 'with', 'the', 'interactions', 'between', 'computers', 'and', 'human', '(', 'natural', ')', 'languages', ',', 'in', 'particular', 'how', 'to', 'program', 'computers', 'to', 'process', 'and', 'analyze', 'large', 'amounts', 'of', 'natural', 'language', 'data', '.', 'Challenges', 'in', 'natural', 'language', 'processing', 'frequently', 'involve', 'speech', 'recognition', ',', 'natural', 'language', 'understanding', ',', 'and', 'natural', 'language', 'generation', '.', 'The', 'history', 'of', 'natural', 'language', 'processing', 'generally', 'started', 'in', 'the', '1950s', ',', 'although', 'work', 'can', 'be', 'found', 'from', 'earlier', 'periods', '.', 'In', '1950', ',', 'Alan', 'Turing', 'published', 'an', 'article', 'titled', \"'Intelligence\", \"'\", 'which', 'proposed', 'what', 'is', 'now', 'called', 'the', 'Turing', 'test', 'as', 'a', 'criterion', 'of', 'intelligence', '.', 'Many', 'of', 'the', 'notable', 'early', 'successes', 'occurred', 'in', 'the', 'field', 'of', 'machine', 'translation', ',', 'due', 'especially', 'to', 'work', 'at', 'IBM', 'Research', ',', 'where', 'successively', 'more', 'complicated', 'statistical', 'models', 'were', 'developed', '.', 'These', 'systems', 'were', 'able', 'to', 'take', 'advantage', 'of', 'existing', 'multilingual', 'textual', 'corpora', 'that', 'had', 'been', 'produced', 'by', 'the', 'Parliament', 'of', 'Canada', 'and', 'the', 'European', 'Union', 'as', 'a', 'result', 'of', 'laws', 'calling', 'for', 'the', 'translation', 'of', 'all', 'governmental', 'proceedings', 'into', 'all', 'official', 'languages', 'of', 'the', 'corresponding', 'systems', 'of', 'government', '.']\n",
      "After stop words removal:\n",
      "\n",
      "['Natural', 'language', 'processing', '(', 'NLP', ')', 'subfield', 'computer', 'science', ',', 'information', 'engineering', ',', 'artificial', 'intelligence', 'concerned', 'interactions', 'computers', 'human', '(', 'natural', ')', 'languages', ',', 'particular', 'program', 'computers', 'process', 'analyze', 'large', 'amounts', 'natural', 'language', 'data', '.', 'Challenges', 'natural', 'language', 'processing', 'frequently', 'involve', 'speech', 'recognition', ',', 'natural', 'language', 'understanding', ',', 'natural', 'language', 'generation', '.', 'The', 'history', 'natural', 'language', 'processing', 'generally', 'started', '1950s', ',', 'although', 'work', 'found', 'earlier', 'periods', '.', 'In', '1950', ',', 'Alan', 'Turing', 'published', 'article', 'titled', \"'Intelligence\", \"'\", 'proposed', 'called', 'Turing', 'test', 'criterion', 'intelligence', '.', 'Many', 'notable', 'early', 'successes', 'occurred', 'field', 'machine', 'translation', ',', 'due', 'especially', 'work', 'IBM', 'Research', ',', 'successively', 'complicated', 'statistical', 'models', 'developed', '.', 'These', 'systems', 'able', 'take', 'advantage', 'existing', 'multilingual', 'textual', 'corpora', 'produced', 'Parliament', 'Canada', 'European', 'Union', 'result', 'laws', 'calling', 'translation', 'governmental', 'proceedings', 'official', 'languages', 'corresponding', 'systems', 'government', '.']\n",
      "\n",
      "\n",
      "The stop words removed are:\n",
      "\n",
      "['is', 'a', 'of', 'and', 'with', 'the', 'between', 'and', 'in', 'how', 'to', 'to', 'and', 'of', 'in', 'and', 'of', 'in', 'the', 'can', 'be', 'from', 'an', 'which', 'what', 'is', 'now', 'the', 'as', 'a', 'of', 'of', 'the', 'in', 'the', 'of', 'to', 'at', 'where', 'more', 'were', 'were', 'to', 'of', 'that', 'had', 'been', 'by', 'the', 'of', 'and', 'the', 'as', 'a', 'of', 'for', 'the', 'of', 'all', 'into', 'all', 'of', 'the', 'of']\n"
     ]
    }
   ],
   "source": [
    "from nltk.tokenize import word_tokenize\n",
    "stop_words = set(stopwords.words('english'))\n",
    "word_tokens = word_tokenize(text)\n",
    "print(\"The tokenized words are:\"+\"\\n\")\n",
    "print(word_tokens)\n",
    "stop=[]\n",
    "filtered_sentence = []\n",
    "for w in word_tokens:\n",
    "    if w not in stop_words:\n",
    "        filtered_sentence.append(w)\n",
    "    else:\n",
    "        stop.append(w)\n",
    "print(\"After stop words removal:\"+\"\\n\")\n",
    "print(filtered_sentence)\n",
    "print(\"\\n\")\n",
    "print(\"The stop words removed are:\"+\"\\n\")\n",
    "print(stop)"
   ]
  },
  {
   "cell_type": "code",
   "execution_count": null,
   "metadata": {},
   "outputs": [],
   "source": []
  }
 ],
 "metadata": {
  "kernelspec": {
   "display_name": "Python 3",
   "language": "python",
   "name": "python3"
  },
  "language_info": {
   "codemirror_mode": {
    "name": "ipython",
    "version": 3
   },
   "file_extension": ".py",
   "mimetype": "text/x-python",
   "name": "python",
   "nbconvert_exporter": "python",
   "pygments_lexer": "ipython3",
   "version": "3.6.5"
  }
 },
 "nbformat": 4,
 "nbformat_minor": 2
}
