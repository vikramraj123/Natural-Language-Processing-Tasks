{
 "cells": [
  {
   "cell_type": "code",
   "execution_count": 8,
   "metadata": {},
   "outputs": [
    {
     "name": "stdout",
     "output_type": "stream",
     "text": [
      "Please input a word to find synonym:happy\n",
      "\n",
      "The synonyms of the word happy for id num 0 - Synset('happy.a.01') are:\n",
      "['happy', 'well-chosen'] \n",
      "\n",
      "\n",
      "The synonyms of the word happy for id num 1 - Synset('felicitous.s.02') are:\n",
      "['felicitous', 'happy'] \n",
      "\n",
      "\n",
      "The synonyms of the word happy for id num 2 - Synset('glad.s.02') are:\n",
      "['beaming', 'glad'] \n",
      "\n"
     ]
    }
   ],
   "source": [
    "import nltk\n",
    "from nltk.corpus import wordnet as wn\n",
    "word = input('Please input a word to find synonym:')\n",
    "id = wn.synsets(word)\n",
    "\n",
    "for i in range(0, len(id)-1):    \n",
    "    id_num = str(id[i])\n",
    "    wordsyn = id_num[8:len(id_num)-3]\n",
    "    print('\\nThe synonyms of the word', word, 'for id num', i, '-', id[i], 'are:')\n",
    "    print(wn.synset(wordsyn).lemma_names(), '\\n')"
   ]
  },
  {
   "cell_type": "code",
   "execution_count": null,
   "metadata": {},
   "outputs": [],
   "source": []
  }
 ],
 "metadata": {
  "kernelspec": {
   "display_name": "Python 3",
   "language": "python",
   "name": "python3"
  },
  "language_info": {
   "codemirror_mode": {
    "name": "ipython",
    "version": 3
   },
   "file_extension": ".py",
   "mimetype": "text/x-python",
   "name": "python",
   "nbconvert_exporter": "python",
   "pygments_lexer": "ipython3",
   "version": "3.6.5"
  }
 },
 "nbformat": 4,
 "nbformat_minor": 2
}
